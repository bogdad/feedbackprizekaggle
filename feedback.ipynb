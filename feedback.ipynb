{
 "cells": [
  {
   "cell_type": "code",
   "execution_count": 1,
   "id": "56562fd1-f3dc-4edb-bd07-eae07032e5a4",
   "metadata": {},
   "outputs": [],
   "source": [
    "import pandas as pd\n",
    "from tqdm import tqdm"
   ]
  },
  {
   "cell_type": "code",
   "execution_count": 2,
   "id": "37f1ec41-ecf0-41c8-a316-ce90f5e29bb2",
   "metadata": {},
   "outputs": [
    {
     "name": "stderr",
     "output_type": "stream",
     "text": [
      "A subdirectory or file models_debug already exists.\n",
      "A subdirectory or file models_folded already exists.\n"
     ]
    }
   ],
   "source": [
    "!mkdir models_debug\n",
    "!mkdir models_folded\n",
    "def kfold_model_inproc(model_fold_storage, problem_type, model_type, X, y, Xtest):\n",
    "    import os\n",
    "    print(\"kfold\", str(os.getpid()))\n",
    "    import tensorflow as tf\n",
    "    from keras import backend as K\n",
    "    import gc\n",
    "    from tqdm import tqdm\n",
    "    import pickle\n",
    "\n",
    "    import numpy as np\n",
    "    split = 5\n",
    "    global pred_dim\n",
    "    global pred_dim_list\n",
    "    pred_dim_list = [i if i>0 else X.shape[0] for i in problem_type.pred_dim()]\n",
    "    pred_dim = tuple(i for i in pred_dim_list)\n",
    "    global oof_pred\n",
    "    oof_pred = np.zeros(pred_dim)\n",
    "    global test_pred\n",
    "    test_pred_dim_list = [i if i>0 else Xtest.shape[0] for i in problem_type.pred_dim()]\n",
    "    test_pred_dim = tuple(i for i in test_pred_dim_list)\n",
    "    test_pred = np.zeros((split,) + test_pred_dim)\n",
    "    from sklearn.model_selection import StratifiedKFold\n",
    "    kf = StratifiedKFold(n_splits=split, shuffle=True)\n",
    "    i_fold=0\n",
    "    all_train_idx = []\n",
    "    all_valid_idx = []\n",
    "    all_model_files = []\n",
    "    global all_metrics\n",
    "    all_metrics = {}\n",
    "    global train_idx\n",
    "    global valid_idx\n",
    "    for train_idx, valid_idx in tqdm(kf.split(X, y.argmax(1))):\n",
    "        all_train_idx.append(train_idx)\n",
    "        all_valid_idx.append(valid_idx)\n",
    "    nfolds = len(all_valid_idx)\n",
    "    for i_fold in range(nfold):\n",
    "        train_idx = all_train_idx[i_fold]\n",
    "        valid_idx = all_valid_idx[i_fold]\n",
    "        Xt = X.iloc[train_idx]\n",
    "        yt = y[train_idx]\n",
    "        Xv = X.iloc[valid_idx]\n",
    "        yv = y[valid_idx]\n",
    "        \n",
    "        model = model_type.create()\n",
    "        model_type.fit(model, Xt, yt, Xv, yv)\n",
    "        \n",
    "        global oof_df_fold\n",
    "        oof_df_fold = model_type.predict(model, Xv)\n",
    "        global metrics\n",
    "        metrics = model_type.evaluate(model, Xv, yv)\n",
    "        for key in metrics:\n",
    "            if key in all_metrics:\n",
    "                all_metrics[key]=np.hstack((all_metrics[key], metrics[key]))\n",
    "            else: \n",
    "                all_metrics[key]=metrics[key]\n",
    "        global test_df_fold\n",
    "        test_df_fold = model_type.predict(model, Xtest)\n",
    "        model_fold_storage.save_fold(model_type, X, y, valid_idx, train_idx, i_fold, oof_df_fold, test_df_fold, metrics)\n",
    "        \n",
    "        oof_pred[valid_idx, :] = np.reshape(oof_df_fold, oof_df_fold.shape)\n",
    "        test_pred[i_fold]=test_df_fold\n",
    "        model_file = model_type.save(i_fold, model)\n",
    "        all_model_files.append(model_file)\n",
    "        i_fold+=1\n",
    "        K.clear_session()\n",
    "        del model\n",
    "        gc.collect()\n",
    "        K.clear_session()\n",
    "        gc.collect()\n",
    "        K.clear_session()\n",
    "    model_fold_storage.save_kfold(model_type, X, y, all_valid_idx, all_train_idx, all_model_files, oof_pred, test_pred, all_metrics)\n",
    "    return oof_pred, test_pred, all_metrics"
   ]
  },
  {
   "cell_type": "code",
   "execution_count": 3,
   "id": "8350b36e-d7fd-48ec-9edb-bf7620abf27f",
   "metadata": {},
   "outputs": [],
   "source": [
    "!mkdir models\n",
    "class ModelFoldStorage:\n",
    "    def save_fold(self, model_type, X, y, valid_idx, train_idx, i_fold, oof_df_fold, test_df_fold, metrics):\n",
    "        foldData = {}\n",
    "        foldData['X'], foldData['y'],foldData['valid_idx'],foldData['train_idx']=X,y,valid_idx,train_idx\n",
    "        foldData['oof_df_fold'],foldData['i_fold'], foldData['metrics'], foldData['test_df_fold']=oof_df_fold,i_fold, metrics, test_df_fold\n",
    "        with open(r\"models/\"+model_type.name()+\"_\"+str(i_fold)+\".bin\", \"wb\") as output_file:\n",
    "            pickle.dump(foldData, output_file)\n",
    "    def save_kfold(self, model_type, X, y, all_valid_idx, all_train_idx, all_model_files, oof_pred, test_pred, all_metrics):\n",
    "        modelTypeData = {}\n",
    "        modelTypeData['X'], modelTypeData['y'],modelTypeData['all_valid_idx'],modelTypeData['all_train_idx'], modelTypeData['all_model_files']=X,y,all_valid_idx,all_train_idx, all_model_files\n",
    "        modelTypeData['model_type'], modelTypeData['oof_pred'],modelTypeData['all_metrics'], modelTypeData['test_pred']=model_type, oof_pred, all_metrics, test_pred\n",
    "        with open(r\"models_folded/\"+model_type.name()+\".bin\", \"wb\") as output_file:\n",
    "            pickle.dump(modelTypeData, output_file)"
   ]
  },
  {
   "cell_type": "code",
   "execution_count": 4,
   "id": "e7cf4571-97f1-4e9e-adf6-5d047c41865c",
   "metadata": {},
   "outputs": [],
   "source": [
    "class MyProblem:\n",
    "    def pred_dim(self):\n",
    "        return [0]"
   ]
  },
  {
   "cell_type": "code",
   "execution_count": 5,
   "id": "bab60661-66eb-4b57-bcd3-bea7eb6e6d2c",
   "metadata": {},
   "outputs": [],
   "source": [
    "class MyModel:\n",
    "    def name(self):\n",
    "        pass\n",
    "    def create(self):\n",
    "        pass\n",
    "    def fit(self, model, Xt, yt, Xv, yv):\n",
    "        pass\n",
    "    def predict(self, model, Xt):\n",
    "        pass\n",
    "    def evaluate(self, model, x, y):\n",
    "        pass\n",
    "    def save(self, i, model):\n",
    "        pass\n",
    "    def load(self, i):\n",
    "        pass"
   ]
  },
  {
   "cell_type": "code",
   "execution_count": 6,
   "id": "a23db498-ecd7-4a79-a557-69c4c5c96752",
   "metadata": {},
   "outputs": [],
   "source": [
    "def DatasetMapFunction(input_ids, attn_masks, labels):\n",
    "        return {\n",
    "            'input_ids': input_ids,\n",
    "            'attention_mask': attn_masks\n",
    "            }, labels\n",
    "class MyBertModel(MyModel):\n",
    "    def __init__(self, debug=False):\n",
    "        self.debug = debug\n",
    "    def create(self):\n",
    "        import tensorflow as tf\n",
    "        import tensorflow_hub as hub\n",
    "        import tensorflow_text as text\n",
    "        from transformers import TFBertModel\n",
    "        model = TFBertModel.from_pretrained(\"bert-base-uncased\")\n",
    "        input_ids = tf.keras.layers.Input(shape=(256,), name='input_ids', dtype='int32')\n",
    "        attn_masks = tf.keras.layers.Input(shape=(256,), name='attention_mask', dtype='int32')\n",
    "\n",
    "        bert_embds = model.bert(input_ids, attention_mask=attn_masks)[1] # 0 -> activation layer (3D), 1 -> pooled output layer (2D)\n",
    "        intermediate_layer = tf.keras.layers.Dense(512, activation='relu', name='intermediate_layer')(bert_embds)\n",
    "        output_layer = tf.keras.layers.Dense(3, activation='softmax', name='output_layer')(intermediate_layer) # softmax -> calcs probs of classes\n",
    "\n",
    "        discourse_model = tf.keras.Model(inputs=[input_ids, attn_masks], outputs=output_layer)\n",
    "        discourse_model.summary()\n",
    "        from tensorflow.keras.optimizers import Adam\n",
    "        discourse_model.compile(optimizer=Adam(learning_rate=1e-5, decay=1e-6), \n",
    "                        loss='categorical_crossentropy', \n",
    "                        metrics=['accuracy'])\n",
    "        return (discourse_model, self, model)\n",
    "    def name(self):\n",
    "        return \"bert\"\n",
    "    def fit(self, model, Xt, yt, Xv, yv):\n",
    "        X_input_ids, X_attn_masks, yt = self._transform(Xt, yt)\n",
    "        import tensorflow as tf\n",
    "        dataset = tf.data.Dataset.from_tensor_slices((X_input_ids, X_attn_masks, yt))\n",
    "        dataset = dataset.map(DatasetMapFunction)     # converting to required format for tensorflow dataset\n",
    "        dataset = dataset.shuffle(10000).batch(16, drop_remainder=True) # batch size, drop any left out tensor\n",
    "        X_val_input_ids, X_val_attn_masks, yv = self._transform(Xv, yv)\n",
    "        val_dataset = tf.data.Dataset.from_tensor_slices((X_val_input_ids, X_val_attn_masks, yv))\n",
    "        val_dataset = val_dataset.map(DatasetMapFunction)     # converting to required format for tensorflow dataset\n",
    "        val_dataset = val_dataset.shuffle(10000).batch(16, drop_remainder=True) # batch size, drop any left out tensor\n",
    "        epochs = 5\n",
    "        if self.debug:\n",
    "            epochs=1\n",
    "        model[1].history = model[0].fit(dataset,\n",
    "            steps_per_epoch=200,\n",
    "            validation_data=val_dataset,\n",
    "            epochs=epochs)\n",
    "    def predict(self, model, X):\n",
    "        X_test_input_ids, X_test_attn_masks, _y = self._transform(X, None)\n",
    "        labels = model[0].predict([X_test_input_ids, X_test_attn_masks])\n",
    "        return labels\n",
    "    def evaluate(self, model, x, y):\n",
    "        import tensorflow as tf\n",
    "        X_input_ids, X_attn_masks, y = self._transform(x,y)\n",
    "        dataset = tf.data.Dataset.from_tensor_slices((X_input_ids, X_attn_masks, y))\n",
    "        dataset = dataset.map(DatasetMapFunction)\n",
    "        dataset = dataset.shuffle(10000).batch(16, drop_remainder=True)\n",
    "        return model[0].evaluate(dataset, return_dict=True)\n",
    "    def _encode_data(self, df, ids, masks, tokenizer):\n",
    "        from tqdm.auto import tqdm\n",
    "        for i, text in tqdm(enumerate(df['text'])):\n",
    "            tokenized_text = tokenizer.encode_plus(\n",
    "                text,\n",
    "                max_length=256, \n",
    "                truncation=True, \n",
    "                padding='max_length', \n",
    "                add_special_tokens=True,\n",
    "                return_tensors='tf'\n",
    "            )\n",
    "            ids[i, :] = tokenized_text.input_ids\n",
    "            masks[i, :] = tokenized_text.attention_mask\n",
    "        return ids, masks\n",
    "    \n",
    "    def _transform(self, X,y):\n",
    "        if self.debug:\n",
    "            X = X.head(1000)\n",
    "            if y is not None:\n",
    "                y = y[0:1000,:]\n",
    "        from transformers import BertTokenizerFast\n",
    "        tokenizer = BertTokenizerFast.from_pretrained('bert-base-uncased')\n",
    "        import numpy as np\n",
    "        X_input_ids = np.zeros((len(X), 256))\n",
    "        X_attn_masks = np.zeros((len(X), 256))\n",
    "        from tqdm.auto import tqdm\n",
    "        X_input_ids, X_attn_masks = self._encode_data(X, X_input_ids, X_attn_masks, tokenizer)\n",
    "        return X_input_ids, X_attn_masks, y"
   ]
  },
  {
   "cell_type": "code",
   "execution_count": 7,
   "id": "8024c639-2615-43a2-a66c-d29ab764b636",
   "metadata": {},
   "outputs": [],
   "source": [
    "class FeedbackProblem(MyProblem):\n",
    "    def pred_dim(self):\n",
    "        return [0,3]"
   ]
  },
  {
   "cell_type": "code",
   "execution_count": 8,
   "id": "a3923d28-c384-451a-b315-70129f0fd999",
   "metadata": {},
   "outputs": [
    {
     "name": "stdout",
     "output_type": "stream",
     "text": [
      "['.gitattributes', 'LICENSE', 'README.md', 'config.json', 'flax_model.msgpack', 'pytorch_model.bin', 'rust_model.ot', 'tf_model.h5', 'tokenizer.json', 'tokenizer_config.json', 'vocab.txt']\n"
     ]
    }
   ],
   "source": [
    "from transformers import BertTokenizerFast\n",
    "tokenizer = BertTokenizerFast.from_pretrained('bert-base-uncased')"
   ]
  },
  {
   "cell_type": "code",
   "execution_count": 9,
   "id": "dcd4c86f-b37b-4713-9d63-b294f075d633",
   "metadata": {},
   "outputs": [],
   "source": [
    "df_train = pd.read_csv(\"../input/feedback-prize-effectiveness/train.csv\")\n",
    "df_test = pd.read_csv(\"../input/feedback-prize-effectiveness/test.csv\")"
   ]
  },
  {
   "cell_type": "code",
   "execution_count": 10,
   "id": "dce8e5d4-23aa-4d7c-8f53-966d0ed64381",
   "metadata": {},
   "outputs": [],
   "source": [
    "df_train[\"text\"] = df_train[\"essay_id\"].apply(lambda x: open(f'../input/feedback-prize-effectiveness/train/{x}.txt').read())\n",
    "df_test[\"text\"] = df_test[\"essay_id\"].apply(lambda x: open(f'../input/feedback-prize-effectiveness/test/{x}.txt').read())"
   ]
  },
  {
   "cell_type": "code",
   "execution_count": 11,
   "id": "2146d6c5-a152-4e76-9463-0e2eed0af8ae",
   "metadata": {},
   "outputs": [
    {
     "data": {
      "text/html": [
       "<div>\n",
       "<style scoped>\n",
       "    .dataframe tbody tr th:only-of-type {\n",
       "        vertical-align: middle;\n",
       "    }\n",
       "\n",
       "    .dataframe tbody tr th {\n",
       "        vertical-align: top;\n",
       "    }\n",
       "\n",
       "    .dataframe thead th {\n",
       "        text-align: right;\n",
       "    }\n",
       "</style>\n",
       "<table border=\"1\" class=\"dataframe\">\n",
       "  <thead>\n",
       "    <tr style=\"text-align: right;\">\n",
       "      <th></th>\n",
       "      <th>discourse_id</th>\n",
       "      <th>essay_id</th>\n",
       "      <th>discourse_text</th>\n",
       "      <th>discourse_type</th>\n",
       "      <th>discourse_effectiveness</th>\n",
       "      <th>text</th>\n",
       "    </tr>\n",
       "  </thead>\n",
       "  <tbody>\n",
       "    <tr>\n",
       "      <th>0</th>\n",
       "      <td>0013cc385424</td>\n",
       "      <td>007ACE74B050</td>\n",
       "      <td>Hi, i'm Isaac, i'm going to be writing about how this face on Mars is a natural landform or if there is life on Mars that made it. The story is about how NASA took a picture of Mars and a face was seen on the planet. NASA doesn't know if the landform was created by life on Mars, or if it is just a natural landform.</td>\n",
       "      <td>Lead</td>\n",
       "      <td>Adequate</td>\n",
       "      <td>Hi, i'm Isaac, i'm going to be writing about how this face on Mars is a natural landform or if there is life on Mars that made it. The story is about how NASA took a picture of Mars and a face was seen on the planet. NASA doesn't know if the landform was created by life on Mars, or if it is just a natural landform. On my perspective, I think that the face is a natural landform because I dont think that there is any life on Mars. In these next few paragraphs, I'll be talking about how I think that is is a natural landform\\n\\nI think that the face is a natural landform because there is no life on Mars that we have descovered yet. If life was on Mars, we would know by now. The reason why I think it is a natural landform because, nobody live on Mars in order to create the figure. It says in paragraph 9, \"It's not easy to target Cydonia,\" in which he is saying that its not easy to know if it is a natural landform at this point. In all that they're saying, its probably a natural landform.\\n\\nPeople thought that the face was formed by alieans because they thought that there was life on Mars. though some say that life on Mars does exist, I think that there is no life on Mars.\\n\\nIt says in paragraph 7, on April 5, 1998, Mars Global Surveyor flew over Cydonia for the first time. Michael Malin took a picture of Mars with his Orbiter Camera, that the face was a natural landform. Everyone who thought it was made by alieans even though it wasn't, was not satisfied. I think they were not satisfied because they have thought since 1976 that it was really formed by alieans.\\n\\nThough people were not satified about how the landform was a natural landform, in all, we new that alieans did not form the face. I would like to know how the landform was formed. we know now that life on Mars doesn't exist.</td>\n",
       "    </tr>\n",
       "    <tr>\n",
       "      <th>1</th>\n",
       "      <td>9704a709b505</td>\n",
       "      <td>007ACE74B050</td>\n",
       "      <td>On my perspective, I think that the face is a natural landform because I dont think that there is any life on Mars. In these next few paragraphs, I'll be talking about how I think that is is a natural landform</td>\n",
       "      <td>Position</td>\n",
       "      <td>Adequate</td>\n",
       "      <td>Hi, i'm Isaac, i'm going to be writing about how this face on Mars is a natural landform or if there is life on Mars that made it. The story is about how NASA took a picture of Mars and a face was seen on the planet. NASA doesn't know if the landform was created by life on Mars, or if it is just a natural landform. On my perspective, I think that the face is a natural landform because I dont think that there is any life on Mars. In these next few paragraphs, I'll be talking about how I think that is is a natural landform\\n\\nI think that the face is a natural landform because there is no life on Mars that we have descovered yet. If life was on Mars, we would know by now. The reason why I think it is a natural landform because, nobody live on Mars in order to create the figure. It says in paragraph 9, \"It's not easy to target Cydonia,\" in which he is saying that its not easy to know if it is a natural landform at this point. In all that they're saying, its probably a natural landform.\\n\\nPeople thought that the face was formed by alieans because they thought that there was life on Mars. though some say that life on Mars does exist, I think that there is no life on Mars.\\n\\nIt says in paragraph 7, on April 5, 1998, Mars Global Surveyor flew over Cydonia for the first time. Michael Malin took a picture of Mars with his Orbiter Camera, that the face was a natural landform. Everyone who thought it was made by alieans even though it wasn't, was not satisfied. I think they were not satisfied because they have thought since 1976 that it was really formed by alieans.\\n\\nThough people were not satified about how the landform was a natural landform, in all, we new that alieans did not form the face. I would like to know how the landform was formed. we know now that life on Mars doesn't exist.</td>\n",
       "    </tr>\n",
       "  </tbody>\n",
       "</table>\n",
       "</div>"
      ],
      "text/plain": [
       "   discourse_id      essay_id  \\\n",
       "0  0013cc385424  007ACE74B050   \n",
       "1  9704a709b505  007ACE74B050   \n",
       "\n",
       "                                                                                                                                                                                                                                                                                                                  discourse_text  \\\n",
       "0  Hi, i'm Isaac, i'm going to be writing about how this face on Mars is a natural landform or if there is life on Mars that made it. The story is about how NASA took a picture of Mars and a face was seen on the planet. NASA doesn't know if the landform was created by life on Mars, or if it is just a natural landform.    \n",
       "1                                                                                                             On my perspective, I think that the face is a natural landform because I dont think that there is any life on Mars. In these next few paragraphs, I'll be talking about how I think that is is a natural landform    \n",
       "\n",
       "  discourse_type discourse_effectiveness  \\\n",
       "0           Lead                Adequate   \n",
       "1       Position                Adequate   \n",
       "\n",
       "                                                                                                                                                                                                                                                                                                                                                                                                                                                                                                                                                                                                                                                                                                                                                                                                                                                                                                                                                                                                                                                                                                                                                                                                                                                                                                                                                                                                                                                                                                                                                                                                                                                                                                                                                                                                                                                                                               text  \n",
       "0  Hi, i'm Isaac, i'm going to be writing about how this face on Mars is a natural landform or if there is life on Mars that made it. The story is about how NASA took a picture of Mars and a face was seen on the planet. NASA doesn't know if the landform was created by life on Mars, or if it is just a natural landform. On my perspective, I think that the face is a natural landform because I dont think that there is any life on Mars. In these next few paragraphs, I'll be talking about how I think that is is a natural landform\\n\\nI think that the face is a natural landform because there is no life on Mars that we have descovered yet. If life was on Mars, we would know by now. The reason why I think it is a natural landform because, nobody live on Mars in order to create the figure. It says in paragraph 9, \"It's not easy to target Cydonia,\" in which he is saying that its not easy to know if it is a natural landform at this point. In all that they're saying, its probably a natural landform.\\n\\nPeople thought that the face was formed by alieans because they thought that there was life on Mars. though some say that life on Mars does exist, I think that there is no life on Mars.\\n\\nIt says in paragraph 7, on April 5, 1998, Mars Global Surveyor flew over Cydonia for the first time. Michael Malin took a picture of Mars with his Orbiter Camera, that the face was a natural landform. Everyone who thought it was made by alieans even though it wasn't, was not satisfied. I think they were not satisfied because they have thought since 1976 that it was really formed by alieans.\\n\\nThough people were not satified about how the landform was a natural landform, in all, we new that alieans did not form the face. I would like to know how the landform was formed. we know now that life on Mars doesn't exist.               \n",
       "1  Hi, i'm Isaac, i'm going to be writing about how this face on Mars is a natural landform or if there is life on Mars that made it. The story is about how NASA took a picture of Mars and a face was seen on the planet. NASA doesn't know if the landform was created by life on Mars, or if it is just a natural landform. On my perspective, I think that the face is a natural landform because I dont think that there is any life on Mars. In these next few paragraphs, I'll be talking about how I think that is is a natural landform\\n\\nI think that the face is a natural landform because there is no life on Mars that we have descovered yet. If life was on Mars, we would know by now. The reason why I think it is a natural landform because, nobody live on Mars in order to create the figure. It says in paragraph 9, \"It's not easy to target Cydonia,\" in which he is saying that its not easy to know if it is a natural landform at this point. In all that they're saying, its probably a natural landform.\\n\\nPeople thought that the face was formed by alieans because they thought that there was life on Mars. though some say that life on Mars does exist, I think that there is no life on Mars.\\n\\nIt says in paragraph 7, on April 5, 1998, Mars Global Surveyor flew over Cydonia for the first time. Michael Malin took a picture of Mars with his Orbiter Camera, that the face was a natural landform. Everyone who thought it was made by alieans even though it wasn't, was not satisfied. I think they were not satisfied because they have thought since 1976 that it was really formed by alieans.\\n\\nThough people were not satified about how the landform was a natural landform, in all, we new that alieans did not form the face. I would like to know how the landform was formed. we know now that life on Mars doesn't exist.               "
      ]
     },
     "execution_count": 11,
     "metadata": {},
     "output_type": "execute_result"
    }
   ],
   "source": [
    "pd.set_option('display.max_colwidth', 2550)\n",
    "df_train.head(2)"
   ]
  },
  {
   "cell_type": "code",
   "execution_count": 12,
   "id": "6e020fbe-928f-43ff-91e8-54d31fbcf259",
   "metadata": {},
   "outputs": [
    {
     "data": {
      "text/html": [
       "<div>\n",
       "<style scoped>\n",
       "    .dataframe tbody tr th:only-of-type {\n",
       "        vertical-align: middle;\n",
       "    }\n",
       "\n",
       "    .dataframe tbody tr th {\n",
       "        vertical-align: top;\n",
       "    }\n",
       "\n",
       "    .dataframe thead th {\n",
       "        text-align: right;\n",
       "    }\n",
       "</style>\n",
       "<table border=\"1\" class=\"dataframe\">\n",
       "  <thead>\n",
       "    <tr style=\"text-align: right;\">\n",
       "      <th></th>\n",
       "      <th>discourse_id</th>\n",
       "      <th>essay_id</th>\n",
       "      <th>discourse_text</th>\n",
       "      <th>discourse_type</th>\n",
       "      <th>text</th>\n",
       "    </tr>\n",
       "  </thead>\n",
       "  <tbody>\n",
       "    <tr>\n",
       "      <th>0</th>\n",
       "      <td>a261b6e14276</td>\n",
       "      <td>D72CB1C11673</td>\n",
       "      <td>Making choices in life can be very difficult. People often ask for advice when they can not decide on one thing. It's always good to ask others for their advice when making a choice. When you have multiple opinions you have the ability to make the best choice for yourself.</td>\n",
       "      <td>Lead</td>\n",
       "      <td>Making choices in life can be very difficult. People often ask for advice when they can not decide on one thing. It's always good to ask others for their advice when making a choice. When you have multiple opinions you have the ability to make the best choice for yourself. Seeking multiple opinions can help a person make a better choice because it can decrease stress levels, a great chance to learn something new, can be very helpful and beneficial.\\n\\nTo begin with, Seeking information from more than one person can decrease stress levels. When making a decision there is a chance that you can become very stressed and overwhelmed. Being stressed can cause a person to give up on what they are doing. Having multiple opinions from people can make choosing an option less difficult and more easier. The information that you receive from others may have a special meaning in the future. Other peoples opinion can make a person feel confident in making the right choice.\\n\\nWhen you ask other people for their opinion you can also learn many new things. Everyone is different and may have more experience than you. Seeking other peoples opinion can cause you to gain a new skill or lesson. For example, someones advice could teach you how to do something the correct way. Many people are very different and have experience different things in life. Seeking advice from others can teach you a lot. We all learn from our mistakes in life, by sharing your past experiences you may prevent someone else from making the same mistake.\\n\\nSeeking others opinion can be very helpful and beneficial. Taking other peoples advice and doing what they say may lead to a great outcome. When you receive other opinions whether they are good or bad you will be able to look at them from a different point of view. For example, When a group of people give you advice on yourself, you then know how they look at you as a person. Everyone looks at certain things from a different prospective. How someone else looks at it may be how its supposed to be viewed in life.\\n\\nIn conclusion, You can learn from others experiences by seeking the advice that someone give you. Making decisions can cause stress on a person. Relating to someones advice may higher your self-esteem because you no longer feel left out. Ask others for advice when making a difficult decision. When you seek others opinion more opportunities are available fro yourself.</td>\n",
       "    </tr>\n",
       "    <tr>\n",
       "      <th>1</th>\n",
       "      <td>5a88900e7dc1</td>\n",
       "      <td>D72CB1C11673</td>\n",
       "      <td>Seeking multiple opinions can help a person make a better choice</td>\n",
       "      <td>Position</td>\n",
       "      <td>Making choices in life can be very difficult. People often ask for advice when they can not decide on one thing. It's always good to ask others for their advice when making a choice. When you have multiple opinions you have the ability to make the best choice for yourself. Seeking multiple opinions can help a person make a better choice because it can decrease stress levels, a great chance to learn something new, can be very helpful and beneficial.\\n\\nTo begin with, Seeking information from more than one person can decrease stress levels. When making a decision there is a chance that you can become very stressed and overwhelmed. Being stressed can cause a person to give up on what they are doing. Having multiple opinions from people can make choosing an option less difficult and more easier. The information that you receive from others may have a special meaning in the future. Other peoples opinion can make a person feel confident in making the right choice.\\n\\nWhen you ask other people for their opinion you can also learn many new things. Everyone is different and may have more experience than you. Seeking other peoples opinion can cause you to gain a new skill or lesson. For example, someones advice could teach you how to do something the correct way. Many people are very different and have experience different things in life. Seeking advice from others can teach you a lot. We all learn from our mistakes in life, by sharing your past experiences you may prevent someone else from making the same mistake.\\n\\nSeeking others opinion can be very helpful and beneficial. Taking other peoples advice and doing what they say may lead to a great outcome. When you receive other opinions whether they are good or bad you will be able to look at them from a different point of view. For example, When a group of people give you advice on yourself, you then know how they look at you as a person. Everyone looks at certain things from a different prospective. How someone else looks at it may be how its supposed to be viewed in life.\\n\\nIn conclusion, You can learn from others experiences by seeking the advice that someone give you. Making decisions can cause stress on a person. Relating to someones advice may higher your self-esteem because you no longer feel left out. Ask others for advice when making a difficult decision. When you seek others opinion more opportunities are available fro yourself.</td>\n",
       "    </tr>\n",
       "  </tbody>\n",
       "</table>\n",
       "</div>"
      ],
      "text/plain": [
       "   discourse_id      essay_id  \\\n",
       "0  a261b6e14276  D72CB1C11673   \n",
       "1  5a88900e7dc1  D72CB1C11673   \n",
       "\n",
       "                                                                                                                                                                                                                                                                       discourse_text  \\\n",
       "0  Making choices in life can be very difficult. People often ask for advice when they can not decide on one thing. It's always good to ask others for their advice when making a choice. When you have multiple opinions you have the ability to make the best choice for yourself.    \n",
       "1                                                                                                                                                                                                                   Seeking multiple opinions can help a person make a better choice    \n",
       "\n",
       "  discourse_type  \\\n",
       "0           Lead   \n",
       "1       Position   \n",
       "\n",
       "                                                                                                                                                                                                                                                                                                                                                                                                                                                                                                                                                                                                                                                                                                                                                                                                                                                                                                                                                                                                                                                                                                                                                                                                                                                                                                                                                                                                                                                                                                                                                                                                                                                                                                                                                                                                                                                                                                                                                                                                                                                                                                                                                                                                                                                                                                                                                                                                                                                                                                                       text  \n",
       "0  Making choices in life can be very difficult. People often ask for advice when they can not decide on one thing. It's always good to ask others for their advice when making a choice. When you have multiple opinions you have the ability to make the best choice for yourself. Seeking multiple opinions can help a person make a better choice because it can decrease stress levels, a great chance to learn something new, can be very helpful and beneficial.\\n\\nTo begin with, Seeking information from more than one person can decrease stress levels. When making a decision there is a chance that you can become very stressed and overwhelmed. Being stressed can cause a person to give up on what they are doing. Having multiple opinions from people can make choosing an option less difficult and more easier. The information that you receive from others may have a special meaning in the future. Other peoples opinion can make a person feel confident in making the right choice.\\n\\nWhen you ask other people for their opinion you can also learn many new things. Everyone is different and may have more experience than you. Seeking other peoples opinion can cause you to gain a new skill or lesson. For example, someones advice could teach you how to do something the correct way. Many people are very different and have experience different things in life. Seeking advice from others can teach you a lot. We all learn from our mistakes in life, by sharing your past experiences you may prevent someone else from making the same mistake.\\n\\nSeeking others opinion can be very helpful and beneficial. Taking other peoples advice and doing what they say may lead to a great outcome. When you receive other opinions whether they are good or bad you will be able to look at them from a different point of view. For example, When a group of people give you advice on yourself, you then know how they look at you as a person. Everyone looks at certain things from a different prospective. How someone else looks at it may be how its supposed to be viewed in life.\\n\\nIn conclusion, You can learn from others experiences by seeking the advice that someone give you. Making decisions can cause stress on a person. Relating to someones advice may higher your self-esteem because you no longer feel left out. Ask others for advice when making a difficult decision. When you seek others opinion more opportunities are available fro yourself.   \n",
       "1  Making choices in life can be very difficult. People often ask for advice when they can not decide on one thing. It's always good to ask others for their advice when making a choice. When you have multiple opinions you have the ability to make the best choice for yourself. Seeking multiple opinions can help a person make a better choice because it can decrease stress levels, a great chance to learn something new, can be very helpful and beneficial.\\n\\nTo begin with, Seeking information from more than one person can decrease stress levels. When making a decision there is a chance that you can become very stressed and overwhelmed. Being stressed can cause a person to give up on what they are doing. Having multiple opinions from people can make choosing an option less difficult and more easier. The information that you receive from others may have a special meaning in the future. Other peoples opinion can make a person feel confident in making the right choice.\\n\\nWhen you ask other people for their opinion you can also learn many new things. Everyone is different and may have more experience than you. Seeking other peoples opinion can cause you to gain a new skill or lesson. For example, someones advice could teach you how to do something the correct way. Many people are very different and have experience different things in life. Seeking advice from others can teach you a lot. We all learn from our mistakes in life, by sharing your past experiences you may prevent someone else from making the same mistake.\\n\\nSeeking others opinion can be very helpful and beneficial. Taking other peoples advice and doing what they say may lead to a great outcome. When you receive other opinions whether they are good or bad you will be able to look at them from a different point of view. For example, When a group of people give you advice on yourself, you then know how they look at you as a person. Everyone looks at certain things from a different prospective. How someone else looks at it may be how its supposed to be viewed in life.\\n\\nIn conclusion, You can learn from others experiences by seeking the advice that someone give you. Making decisions can cause stress on a person. Relating to someones advice may higher your self-esteem because you no longer feel left out. Ask others for advice when making a difficult decision. When you seek others opinion more opportunities are available fro yourself.   "
      ]
     },
     "execution_count": 12,
     "metadata": {},
     "output_type": "execute_result"
    }
   ],
   "source": [
    "df_test.head(2)"
   ]
  },
  {
   "cell_type": "code",
   "execution_count": 13,
   "id": "1594ced2-52de-4a7b-9eef-f112b0160e4b",
   "metadata": {},
   "outputs": [],
   "source": [
    "effectiveness_map = {\"Ineffective\":0, \"Adequate\":1,\"Effective\":2}\n",
    "df_train[\"target\"] = df_train[\"discourse_effectiveness\"].map(effectiveness_map)"
   ]
  },
  {
   "cell_type": "code",
   "execution_count": 14,
   "id": "413d69f3-2ee2-440b-967f-fd2161784ba7",
   "metadata": {},
   "outputs": [],
   "source": [
    "df_train['text']  = df_train['discourse_type'] + tokenizer.sep_token + df_train['text']\n",
    "df_test['text']  = df_train['discourse_type'] + tokenizer.sep_token + df_train['discourse_text']"
   ]
  },
  {
   "cell_type": "code",
   "execution_count": 15,
   "id": "4051f71b-d22c-478a-839e-d3f1d517eee9",
   "metadata": {},
   "outputs": [
    {
     "data": {
      "text/plain": [
       "array([[0., 1., 0.],\n",
       "       [0., 1., 0.],\n",
       "       [0., 1., 0.],\n",
       "       ...,\n",
       "       [0., 1., 0.],\n",
       "       [1., 0., 0.],\n",
       "       [1., 0., 0.]])"
      ]
     },
     "execution_count": 15,
     "metadata": {},
     "output_type": "execute_result"
    }
   ],
   "source": [
    "import numpy as np\n",
    "labels = np.zeros((len(df_train), 3))\n",
    "labels[np.arange(len(df_train)), df_train['target'].values] = 1\n",
    "labels"
   ]
  },
  {
   "cell_type": "code",
   "execution_count": 16,
   "id": "9f1961fd-1c66-424c-ac8a-f8190d345105",
   "metadata": {},
   "outputs": [],
   "source": [
    "problem_type = FeedbackProblem()"
   ]
  },
  {
   "cell_type": "code",
   "execution_count": 17,
   "id": "88efdd9f-6a7d-461d-97a5-58808cc58c78",
   "metadata": {},
   "outputs": [],
   "source": [
    "model_type = MyBertModel(debug=False)"
   ]
  },
  {
   "cell_type": "code",
   "execution_count": 18,
   "id": "faf7c83d-c830-4ebf-8587-d969517713eb",
   "metadata": {},
   "outputs": [
    {
     "ename": "TypeError",
     "evalue": "kfold_model_inproc() missing 1 required positional argument: 'Xtest'",
     "output_type": "error",
     "traceback": [
      "\u001b[1;31m---------------------------------------------------------------------------\u001b[0m",
      "\u001b[1;31mTypeError\u001b[0m                                 Traceback (most recent call last)",
      "\u001b[1;32m~\\AppData\\Local\\Temp/ipykernel_13224/131520491.py\u001b[0m in \u001b[0;36m<module>\u001b[1;34m\u001b[0m\n\u001b[1;32m----> 1\u001b[1;33m \u001b[0mkfold_model_inproc\u001b[0m\u001b[1;33m(\u001b[0m\u001b[0mproblem_type\u001b[0m\u001b[1;33m,\u001b[0m \u001b[0mmodel_type\u001b[0m\u001b[1;33m,\u001b[0m \u001b[0mdf_train\u001b[0m\u001b[1;33m,\u001b[0m \u001b[0mlabels\u001b[0m\u001b[1;33m,\u001b[0m \u001b[0mdf_test\u001b[0m\u001b[1;33m)\u001b[0m\u001b[1;33m\u001b[0m\u001b[1;33m\u001b[0m\u001b[0m\n\u001b[0m",
      "\u001b[1;31mTypeError\u001b[0m: kfold_model_inproc() missing 1 required positional argument: 'Xtest'"
     ]
    }
   ],
   "source": [
    "kfold_model_inproc(problem_type, model_type, df_train, labels, df_test)"
   ]
  },
  {
   "cell_type": "code",
   "execution_count": null,
   "id": "2085c0f5-6cfe-41a1-a512-e561e10e2e43",
   "metadata": {},
   "outputs": [],
   "source": [
    "metrics"
   ]
  },
  {
   "cell_type": "code",
   "execution_count": null,
   "id": "6f44289a-c17d-4c0e-908d-5df59241abb1",
   "metadata": {},
   "outputs": [],
   "source": [
    "all_metrics"
   ]
  },
  {
   "cell_type": "code",
   "execution_count": null,
   "id": "a9047398-0053-4328-8e4b-b020f7131418",
   "metadata": {},
   "outputs": [],
   "source": []
  }
 ],
 "metadata": {
  "kernelspec": {
   "display_name": "Python 3 (ipykernel)",
   "language": "python",
   "name": "python3"
  },
  "language_info": {
   "codemirror_mode": {
    "name": "ipython",
    "version": 3
   },
   "file_extension": ".py",
   "mimetype": "text/x-python",
   "name": "python",
   "nbconvert_exporter": "python",
   "pygments_lexer": "ipython3",
   "version": "3.9.5"
  }
 },
 "nbformat": 4,
 "nbformat_minor": 5
}
